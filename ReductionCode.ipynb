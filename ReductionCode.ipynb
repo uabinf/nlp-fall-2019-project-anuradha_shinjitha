{
 "cells": [
  {
   "cell_type": "code",
   "execution_count": 1,
   "metadata": {},
   "outputs": [],
   "source": [
    "import re, pdb, sys, math\n",
    "from collections import defaultdict"
   ]
  },
  {
   "cell_type": "code",
   "execution_count": 2,
   "metadata": {},
   "outputs": [],
   "source": [
    "class Graph:\n",
    "    def __init__(self):\n",
    "        self.Vertices = []\n",
    "        self.Edges = []\n",
    "\n",
    "    def getRankedVertices(self):\n",
    "        res = defaultdict(float)\n",
    "        for e in self.Edges:\n",
    "            res[e.Vertex1] += e.Weight\n",
    "        return sorted(res.items(), key=lambda x: x[1], reverse=True)"
   ]
  },
  {
   "cell_type": "code",
   "execution_count": 3,
   "metadata": {},
   "outputs": [],
   "source": [
    "class Vertex:\n",
    "    def __init__(self):\n",
    "        self.Sentence = None"
   ]
  },
  {
   "cell_type": "code",
   "execution_count": 4,
   "metadata": {},
   "outputs": [],
   "source": [
    "class Edge:\n",
    "    def __init__(self):\n",
    "        self.Vertex1 = None\n",
    "        self.Vertex2 = None\n",
    "        self.Weight = 0"
   ]
  },
  {
   "cell_type": "code",
   "execution_count": 5,
   "metadata": {},
   "outputs": [],
   "source": [
    "class WordType:\n",
    "    Content=0\n",
    "    Function=1\n",
    "    ContentPunctuation=2\n",
    "    FunctionPunctuation=3"
   ]
  },
  {
   "cell_type": "code",
   "execution_count": 6,
   "metadata": {},
   "outputs": [],
   "source": [
    "class Word:\n",
    "    def __init__(self):\n",
    "        self.Text=''\n",
    "        self.Type=''"
   ]
  },
  {
   "cell_type": "code",
   "execution_count": 7,
   "metadata": {},
   "outputs": [],
   "source": [
    "class Sentence:\n",
    "    def __init__(self):\n",
    "        self.Words = []\n",
    "\n",
    "    def getFullSentence(self):\n",
    "        text = ''\n",
    "        for w in self.Words:\n",
    "            text += w.Text\n",
    "        return text.strip()\n",
    "\n",
    "    def getReducedSentence(self):\n",
    "        sentenceText = ''\n",
    "        sentenceEnd = self.Words[len(self.Words)-1]\n",
    "        contentWords = filter(lambda w: w.Type == WordType.Content, self.Words)\n",
    "        i = 0\n",
    "        while i < len(contentWords):\n",
    "            w = contentWords[i]\n",
    "            # upper case the first character of the sentence\n",
    "            if i == 0:\n",
    "                li = list(w.Text)\n",
    "                li[0] = li[0].upper()\n",
    "                w.Text = ''.join(li)\n",
    "            sentenceText += w.Text\n",
    "            if i < len(contentWords)-1:\n",
    "                sentenceText += ' '\n",
    "            elif sentenceEnd.Text != w.Text:\n",
    "                sentenceText += sentenceEnd.Text\n",
    "            i = i+1\n",
    "        return sentenceText\n",
    "\n"
   ]
  },
  {
   "cell_type": "code",
   "execution_count": 8,
   "metadata": {},
   "outputs": [],
   "source": [
    "class Paragraph:\n",
    "    def __init__(self):\n",
    "        self.Sentences = []"
   ]
  },
  {
   "cell_type": "code",
   "execution_count": 9,
   "metadata": {},
   "outputs": [],
   "source": [
    "class Reduction:\n",
    "    functionPunctuation = ' ,-'\n",
    "    contentPunctuation = '.?!\\n'\n",
    "    punctuationCharacters = functionPunctuation+contentPunctuation\n",
    "    sentenceEndCharacters = '.?!'\n",
    "\n",
    "    def isContentPunctuation(self, text):\n",
    "        for c in self.contentPunctuation:\n",
    "            if text.lower() == c.lower():\n",
    "                return True\n",
    "        return False\n",
    "\n",
    "    def isFunctionPunctuation(self, text):\n",
    "        for c in self.functionPunctuation:\n",
    "            if text.lower() == c.lower():\n",
    "                return True\n",
    "        return False\n",
    "\n",
    "    def isFunction(self, text, stopWords):\n",
    "        for w in stopWords:\n",
    "            if text.lower() == w.lower():\n",
    "                return True\n",
    "        return False\n",
    "\n",
    "    def tag(self, sampleWords, stopWords):\n",
    "        taggedWords = []\n",
    "        for w in sampleWords:\n",
    "            tw = Word()\n",
    "            tw.Text = w\n",
    "            if self.isContentPunctuation(w):\n",
    "                tw.Type = WordType.ContentPunctuation\n",
    "            elif self.isFunctionPunctuation(w):\n",
    "                tw.Type = WordType.FunctionPunctuation\n",
    "            elif self.isFunction(w, stopWords):\n",
    "                tw.Type = WordType.Function\n",
    "            else:\n",
    "                tw.Type = WordType.Content\n",
    "            taggedWords.append(tw)\n",
    "        return taggedWords\n",
    "\n",
    "    def tokenize(self, text):\n",
    "        return filter(lambda w: w != '', re.split('([{0}])'.format(self.punctuationCharacters), text))\t\n",
    "\n",
    "    def getWords(self, sentenceText, stopWords):\n",
    "        return self.tag(self.tokenize(sentenceText), stopWords) \n",
    "\n",
    "    def getSentences(self, line, stopWords):\n",
    "        sentences = []\n",
    "        sentenceTexts = filter(lambda w: w.strip() != '', re.split('[{0}]'.format(self.sentenceEndCharacters), line))\t\n",
    "        sentenceEnds = re.findall('[{0}]'.format(self.sentenceEndCharacters), line)\n",
    "        sentenceEnds.reverse()\n",
    "        for t in sentenceTexts:\n",
    "            if len(sentenceEnds) > 0:\n",
    "                t += sentenceEnds.pop()\n",
    "            sentence = Sentence()\n",
    "            sentence.Words = self.getWords(t, stopWords)\n",
    "            sentences.append(sentence)\n",
    "        return sentences\n",
    "\n",
    "    def getParagraphs(self, lines, stopWords):\n",
    "        paragraphs = []\n",
    "        for line in lines:\n",
    "            paragraph = Paragraph()\n",
    "            paragraph.Sentences = self.getSentences(line, stopWords)\n",
    "            paragraphs.append(paragraph)\n",
    "        return paragraphs\n",
    "\n",
    "    def findWeight(self, sentence1, sentence2):\n",
    "        length1 = len(list(filter(lambda w: w.Type == WordType.Content, sentence1.Words)))\n",
    "        length2 = len(list(filter(lambda w: w.Type == WordType.Content, sentence2.Words)))\n",
    "        if length1 < 4 or length2 < 4:\n",
    "            return 0\n",
    "        weight = 0\n",
    "        for w1 in filter(lambda w: w.Type == WordType.Content, sentence1.Words):\n",
    "            for w2 in filter(lambda w: w.Type == WordType.Content, sentence2.Words):\n",
    "                if w1.Text.lower() == w2.Text.lower():\n",
    "                    weight = weight + 1\n",
    "        normalised1 = 0\n",
    "        if length1 > 0:\n",
    "            normalised1 = math.log(length1)\n",
    "        normalised2 = 0\n",
    "        if length2 > 0:\n",
    "            normalised2 = math.log(length2)\n",
    "        norm = normalised1 + normalised2\n",
    "        if norm == 0:\n",
    "            return 0\n",
    "        return weight / float(norm)\n",
    "\n",
    "    def buildGraph(self, sentences):\n",
    "        g = Graph()\n",
    "        for s in sentences:\n",
    "            v = Vertex()\n",
    "            v.Sentence = s\n",
    "            g.Vertices.append(v)\n",
    "        for i in g.Vertices:\n",
    "            for j in g.Vertices:\n",
    "                if i != j:\n",
    "                    w = self.findWeight(i.Sentence, j.Sentence)\n",
    "                    e = Edge()\n",
    "                    e.Vertex1 = i\n",
    "                    e.Vertex2 = j\n",
    "                    e.Weight = w\n",
    "                    g.Edges.append(e)\n",
    "        return g\n",
    "\n",
    "    def sentenceRank(self, paragraphs):\n",
    "        sentences = []\n",
    "        for p in paragraphs:\n",
    "            for s in p.Sentences:\n",
    "                sentences.append(s)\n",
    "        g = self.buildGraph(sentences)\n",
    "        return g.getRankedVertices()\n",
    "\n",
    "    def reduce(self, text, reductionRatio):\n",
    "        stopWordsFile = 'stopWords.txt'\n",
    "        stopWords= open(stopWordsFile).read().splitlines()\n",
    "\n",
    "        lines = text.splitlines()\n",
    "        print(\"lines\", lines)\n",
    "        contentLines = filter(lambda w: w.strip() != '', lines)\n",
    "        print(\"contentLines\", contentLines)\n",
    "\n",
    "        paragraphs = self.getParagraphs(contentLines, stopWords)\n",
    "        print(\"paragraphs\", paragraphs)\n",
    "\n",
    "        rankedSentences = self.sentenceRank(paragraphs)\n",
    "\n",
    "        orderedSentences = []\n",
    "        for p in paragraphs:\n",
    "            for s in p.Sentences:\n",
    "                orderedSentences.append(s)\n",
    "\n",
    "        reducedSentences = []\n",
    "        i = 0\n",
    "        while i < math.trunc(len(rankedSentences) * reductionRatio):\n",
    "            s = rankedSentences[i][0].Sentence\n",
    "            position = orderedSentences.index(s)\n",
    "            reducedSentences.append((s, position))\n",
    "            i = i + 1\n",
    "        reducedSentences = sorted(reducedSentences, key=lambda x: x[1])\n",
    "\n",
    "        reducedText = []\n",
    "        for s,r in reducedSentences:\n",
    "            reducedText.append(s.getFullSentence())\n",
    "        return reducedText\t"
   ]
  },
  {
   "cell_type": "code",
   "execution_count": 13,
   "metadata": {},
   "outputs": [
    {
     "name": "stdout",
     "output_type": "stream",
     "text": [
      "[nltk_data] Downloading package punkt to /home/anuradha/nltk_data...\n",
      "[nltk_data]   Package punkt is already up-to-date!\n"
     ]
    }
   ],
   "source": [
    "import numpy as np\n",
    "import pandas as pd\n",
    "import nltk\n",
    "nltk.download('punkt') # one time execution\n",
    "import re"
   ]
  },
  {
   "cell_type": "code",
   "execution_count": 14,
   "metadata": {},
   "outputs": [],
   "source": [
    "df = pd.read_csv(\"tennis_articles_v4.csv\")"
   ]
  },
  {
   "cell_type": "code",
   "execution_count": 15,
   "metadata": {},
   "outputs": [
    {
     "data": {
      "text/html": [
       "<div>\n",
       "<style scoped>\n",
       "    .dataframe tbody tr th:only-of-type {\n",
       "        vertical-align: middle;\n",
       "    }\n",
       "\n",
       "    .dataframe tbody tr th {\n",
       "        vertical-align: top;\n",
       "    }\n",
       "\n",
       "    .dataframe thead th {\n",
       "        text-align: right;\n",
       "    }\n",
       "</style>\n",
       "<table border=\"1\" class=\"dataframe\">\n",
       "  <thead>\n",
       "    <tr style=\"text-align: right;\">\n",
       "      <th></th>\n",
       "      <th>article_id</th>\n",
       "      <th>article_text</th>\n",
       "      <th>source</th>\n",
       "    </tr>\n",
       "  </thead>\n",
       "  <tbody>\n",
       "    <tr>\n",
       "      <th>0</th>\n",
       "      <td>1</td>\n",
       "      <td>Maria Sharapova has basically no friends as te...</td>\n",
       "      <td>https://www.tennisworldusa.org/tennis/news/Mar...</td>\n",
       "    </tr>\n",
       "    <tr>\n",
       "      <th>1</th>\n",
       "      <td>2</td>\n",
       "      <td>BASEL, Switzerland (AP), Roger Federer advance...</td>\n",
       "      <td>http://www.tennis.com/pro-game/2018/10/copil-s...</td>\n",
       "    </tr>\n",
       "    <tr>\n",
       "      <th>2</th>\n",
       "      <td>3</td>\n",
       "      <td>Roger Federer has revealed that organisers of ...</td>\n",
       "      <td>https://scroll.in/field/899938/tennis-roger-fe...</td>\n",
       "    </tr>\n",
       "    <tr>\n",
       "      <th>3</th>\n",
       "      <td>4</td>\n",
       "      <td>Kei Nishikori will try to end his long losing ...</td>\n",
       "      <td>http://www.tennis.com/pro-game/2018/10/nishiko...</td>\n",
       "    </tr>\n",
       "    <tr>\n",
       "      <th>4</th>\n",
       "      <td>5</td>\n",
       "      <td>Federer, 37, first broke through on tour over ...</td>\n",
       "      <td>https://www.express.co.uk/sport/tennis/1036101...</td>\n",
       "    </tr>\n",
       "  </tbody>\n",
       "</table>\n",
       "</div>"
      ],
      "text/plain": [
       "   article_id                                       article_text  \\\n",
       "0           1  Maria Sharapova has basically no friends as te...   \n",
       "1           2  BASEL, Switzerland (AP), Roger Federer advance...   \n",
       "2           3  Roger Federer has revealed that organisers of ...   \n",
       "3           4  Kei Nishikori will try to end his long losing ...   \n",
       "4           5  Federer, 37, first broke through on tour over ...   \n",
       "\n",
       "                                              source  \n",
       "0  https://www.tennisworldusa.org/tennis/news/Mar...  \n",
       "1  http://www.tennis.com/pro-game/2018/10/copil-s...  \n",
       "2  https://scroll.in/field/899938/tennis-roger-fe...  \n",
       "3  http://www.tennis.com/pro-game/2018/10/nishiko...  \n",
       "4  https://www.express.co.uk/sport/tennis/1036101...  "
      ]
     },
     "execution_count": 15,
     "metadata": {},
     "output_type": "execute_result"
    }
   ],
   "source": [
    "df.head()"
   ]
  },
  {
   "cell_type": "code",
   "execution_count": 17,
   "metadata": {},
   "outputs": [
    {
     "name": "stdout",
     "output_type": "stream",
     "text": [
      "lines [\"Maria Sharapova has basically no friends as tennis players on the WTA Tour. The Russian player has no problems in openly speaking about it and in a recent interview she said: 'I don't really hide any feelings too much. I think everyone knows this is my job here. When I'm on the courts or when I'm on the court playing, I'm a competitor and I want to beat every single person whether they're in the locker room or across the net.So I'm not the one to strike up a conversation about the weather and know that in the next few minutes I have to go and try to win a tennis match. I'm a pretty competitive girl. I say my hellos, but I'm not sending any players flowers as well. Uhm, I'm not really friendly or close to many players. I have not a lot of friends away from the courts.' When she said she is not really close to a lot of players, is that something strategic that she is doing? Is it different on the men's tour than the women's tour? 'No, not at all. I think just because you're in the same sport doesn't mean that you have to be friends with everyone just because you're categorized, you're a tennis player, so you're going to get along with tennis players. I think every person has different interests. I have friends that have completely different jobs and interests, and I've met them in very different parts of my life. I think everyone just thinks because we're tennis players we should be the greatest of friends. But ultimately tennis is just a very small part of what we do. There are so many other things that we're interested in, that we do.'\"]\n",
      "contentLines <filter object at 0x2aaae4f0d490>\n",
      "paragraphs [<__main__.Paragraph object at 0x2aaae4f0d6d0>]\n",
      "[\"I think just because you're in the same sport doesn't mean that you have to be friends with everyone just because you're categorized, you're a tennis player, so you're going to get along with tennis players.\"]\n"
     ]
    }
   ],
   "source": [
    "import string\n",
    "reduction = Reduction()\n",
    "\n",
    "text = df['article_text'][0]\n",
    "reduction_ratio = 0.1\n",
    "\n",
    "reduced_text = reduction.reduce(text, reduction_ratio)\n",
    "\n",
    "print(reduced_text)\n"
   ]
  },
  {
   "cell_type": "code",
   "execution_count": 18,
   "metadata": {},
   "outputs": [
    {
     "name": "stdout",
     "output_type": "stream",
     "text": [
      "Maria Sharapova has basically no friends as tennis players on the WTA Tour. The Russian player has no problems in openly speaking about it and in a recent interview she said: 'I don't really hide any feelings too much. I think everyone knows this is my job here. When I'm on the courts or when I'm on the court playing, I'm a competitor and I want to beat every single person whether they're in the locker room or across the net.So I'm not the one to strike up a conversation about the weather and know that in the next few minutes I have to go and try to win a tennis match. I'm a pretty competitive girl. I say my hellos, but I'm not sending any players flowers as well. Uhm, I'm not really friendly or close to many players. I have not a lot of friends away from the courts.' When she said she is not really close to a lot of players, is that something strategic that she is doing? Is it different on the men's tour than the women's tour? 'No, not at all. I think just because you're in the same sport doesn't mean that you have to be friends with everyone just because you're categorized, you're a tennis player, so you're going to get along with tennis players. I think every person has different interests. I have friends that have completely different jobs and interests, and I've met them in very different parts of my life. I think everyone just thinks because we're tennis players we should be the greatest of friends. But ultimately tennis is just a very small part of what we do. There are so many other things that we're interested in, that we do.'\n"
     ]
    }
   ],
   "source": [
    "print(text)"
   ]
  },
  {
   "cell_type": "code",
   "execution_count": 19,
   "metadata": {},
   "outputs": [
    {
     "name": "stdout",
     "output_type": "stream",
     "text": [
      "[\"I think just because you're in the same sport doesn't mean that you have to be friends with everyone just because you're categorized, you're a tennis player, so you're going to get along with tennis players.\"]\n"
     ]
    }
   ],
   "source": [
    "print(reduced_text)"
   ]
  },
  {
   "cell_type": "code",
   "execution_count": null,
   "metadata": {},
   "outputs": [],
   "source": []
  }
 ],
 "metadata": {
  "kernelspec": {
   "display_name": "Python 3",
   "language": "python",
   "name": "python3"
  },
  "language_info": {
   "codemirror_mode": {
    "name": "ipython",
    "version": 3
   },
   "file_extension": ".py",
   "mimetype": "text/x-python",
   "name": "python",
   "nbconvert_exporter": "python",
   "pygments_lexer": "ipython3",
   "version": "3.7.4"
  }
 },
 "nbformat": 4,
 "nbformat_minor": 2
}
