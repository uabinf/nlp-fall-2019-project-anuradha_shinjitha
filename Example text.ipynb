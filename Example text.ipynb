{
 "cells": [
  {
   "cell_type": "code",
   "execution_count": 1,
   "metadata": {},
   "outputs": [],
   "source": [
    "import spacy\n",
    "from spacy.lang.en.stop_words import STOP_WORDS\n",
    "from string import punctuation"
   ]
  },
  {
   "cell_type": "code",
   "execution_count": 2,
   "metadata": {},
   "outputs": [],
   "source": [
    "document1 = \"\"\"\n",
    "A short story is a piece of prose fiction that typically can be read in one sitting and focuses on a self-contained incident or series of linked incidents, with the intent of evoking a \"single effect\" or mood.\n",
    "\n",
    "A dictionary definition is \"an invented prose narrative shorter than a novel usually dealing with a few characters and aiming at unity of effect and often concentrating on the creation of mood rather than plot.\"[1]\n",
    "\n",
    "The short story is a crafted form in its own right. Short stories make use of plot, resonance, and other dynamic components as in a novel, but typically to a lesser degree. While the short story is largely distinct from the novel or novella (a shorter novel), authors generally draw from a common pool of literary techniques.\n",
    "\n",
    "Short story writers may define their works as part of the artistic and personal expression of the form. They may also attempt to resist categorization by genre and fixed formation.\"\"\""
   ]
  },
  {
   "cell_type": "code",
   "execution_count": 3,
   "metadata": {},
   "outputs": [],
   "source": [
    "document2 = \"\"\"\n",
    "A narrative or story, is an account of a series of related events, experiences, or the like, whether true (episode, vignette, travelogue, memoir, autobiography, biography) or fictitious (fairy tale, fable, story, epic, legend, novel). The word derives from the Latin verb narrare (to tell), which is derived from the adjective gnarus (knowing or skilled).Along with argumentation, description, and exposition, narration, broadly defined, is one of four rhetorical modes of discourse. More narrowly defined, it is the fiction-writing mode in which the narrator communicates directly to the reader.\n",
    "\n",
    "Oral storytelling is the earliest method for sharing narratives.[7] During most people's childhoods, narratives are used to guide them on proper behavior, cultural history, formation of a communal identity and values, as especially studied in anthropology today among traditional indigenous peoples.[8]\n",
    "\n",
    "Narrative is found in all forms of human creativity, art, and entertainment, including speech, literature, theatre, music and song, comics, journalism, film, television and video, video games, radio, game-play, unstructured recreation and performance in general, as well as some painting, sculpture, drawing, photography and other visual arts, as long as a sequence of events is presented. Several art movements, such as modern art, refuse the narrative in favor of the abstract and conceptual.\n",
    "\"\"\""
   ]
  },
  {
   "cell_type": "code",
   "execution_count": 4,
   "metadata": {},
   "outputs": [],
   "source": [
    "stopwords = list(STOP_WORDS)"
   ]
  },
  {
   "cell_type": "code",
   "execution_count": 5,
   "metadata": {},
   "outputs": [
    {
     "data": {
      "text/plain": [
       "312"
      ]
     },
     "execution_count": 5,
     "metadata": {},
     "output_type": "execute_result"
    }
   ],
   "source": [
    "len(stopwords)"
   ]
  },
  {
   "cell_type": "code",
   "execution_count": 6,
   "metadata": {},
   "outputs": [],
   "source": [
    "nlp = spacy.load('en_core_web_sm')"
   ]
  },
  {
   "cell_type": "code",
   "execution_count": 7,
   "metadata": {},
   "outputs": [],
   "source": [
    "docx = nlp(document2 )"
   ]
  },
  {
   "cell_type": "code",
   "execution_count": 8,
   "metadata": {},
   "outputs": [
    {
     "name": "stdout",
     "output_type": "stream",
     "text": [
      "\n",
      "\n",
      "A\n",
      "narrative\n",
      "or\n",
      "story\n",
      ",\n",
      "is\n",
      "an\n",
      "account\n",
      "of\n",
      "a\n",
      "series\n",
      "of\n",
      "related\n",
      "events\n",
      ",\n",
      "experiences\n",
      ",\n",
      "or\n",
      "the\n",
      "like\n",
      ",\n",
      "whether\n",
      "true\n",
      "(\n",
      "episode\n",
      ",\n",
      "vignette\n",
      ",\n",
      "travelogue\n",
      ",\n",
      "memoir\n",
      ",\n",
      "autobiography\n",
      ",\n",
      "biography\n",
      ")\n",
      "or\n",
      "fictitious\n",
      "(\n",
      "fairy\n",
      "tale\n",
      ",\n",
      "fable\n",
      ",\n",
      "story\n",
      ",\n",
      "epic\n",
      ",\n",
      "legend\n",
      ",\n",
      "novel\n",
      ")\n",
      ".\n",
      "The\n",
      "word\n",
      "derives\n",
      "from\n",
      "the\n",
      "Latin\n",
      "verb\n",
      "narrare\n",
      "(\n",
      "to\n",
      "tell\n",
      ")\n",
      ",\n",
      "which\n",
      "is\n",
      "derived\n",
      "from\n",
      "the\n",
      "adjective\n",
      "gnarus\n",
      "(\n",
      "knowing\n",
      "or\n",
      "skilled).Along\n",
      "with\n",
      "argumentation\n",
      ",\n",
      "description\n",
      ",\n",
      "and\n",
      "exposition\n",
      ",\n",
      "narration\n",
      ",\n",
      "broadly\n",
      "defined\n",
      ",\n",
      "is\n",
      "one\n",
      "of\n",
      "four\n",
      "rhetorical\n",
      "modes\n",
      "of\n",
      "discourse\n",
      ".\n",
      "More\n",
      "narrowly\n",
      "defined\n",
      ",\n",
      "it\n",
      "is\n",
      "the\n",
      "fiction\n",
      "-\n",
      "writing\n",
      "mode\n",
      "in\n",
      "which\n",
      "the\n",
      "narrator\n",
      "communicates\n",
      "directly\n",
      "to\n",
      "the\n",
      "reader\n",
      ".\n",
      "\n",
      "\n",
      "\n",
      "Oral\n",
      "storytelling\n",
      "is\n",
      "the\n",
      "earliest\n",
      "method\n",
      "for\n",
      "sharing\n",
      "narratives.[7\n",
      "]\n",
      "During\n",
      "most\n",
      "people\n",
      "'s\n",
      "childhoods\n",
      ",\n",
      "narratives\n",
      "are\n",
      "used\n",
      "to\n",
      "guide\n",
      "them\n",
      "on\n",
      "proper\n",
      "behavior\n",
      ",\n",
      "cultural\n",
      "history\n",
      ",\n",
      "formation\n",
      "of\n",
      "a\n",
      "communal\n",
      "identity\n",
      "and\n",
      "values\n",
      ",\n",
      "as\n",
      "especially\n",
      "studied\n",
      "in\n",
      "anthropology\n",
      "today\n",
      "among\n",
      "traditional\n",
      "indigenous\n",
      "peoples.[8\n",
      "]\n",
      "\n",
      "\n",
      "\n",
      "Narrative\n",
      "is\n",
      "found\n",
      "in\n",
      "all\n",
      "forms\n",
      "of\n",
      "human\n",
      "creativity\n",
      ",\n",
      "art\n",
      ",\n",
      "and\n",
      "entertainment\n",
      ",\n",
      "including\n",
      "speech\n",
      ",\n",
      "literature\n",
      ",\n",
      "theatre\n",
      ",\n",
      "music\n",
      "and\n",
      "song\n",
      ",\n",
      "comics\n",
      ",\n",
      "journalism\n",
      ",\n",
      "film\n",
      ",\n",
      "television\n",
      "and\n",
      "video\n",
      ",\n",
      "video\n",
      "games\n",
      ",\n",
      "radio\n",
      ",\n",
      "game\n",
      "-\n",
      "play\n",
      ",\n",
      "unstructured\n",
      "recreation\n",
      "and\n",
      "performance\n",
      "in\n",
      "general\n",
      ",\n",
      "as\n",
      "well\n",
      "as\n",
      "some\n",
      "painting\n",
      ",\n",
      "sculpture\n",
      ",\n",
      "drawing\n",
      ",\n",
      "photography\n",
      "and\n",
      "other\n",
      "visual\n",
      "arts\n",
      ",\n",
      "as\n",
      "long\n",
      "as\n",
      "a\n",
      "sequence\n",
      "of\n",
      "events\n",
      "is\n",
      "presented\n",
      ".\n",
      "Several\n",
      "art\n",
      "movements\n",
      ",\n",
      "such\n",
      "as\n",
      "modern\n",
      "art\n",
      ",\n",
      "refuse\n",
      "the\n",
      "narrative\n",
      "in\n",
      "favor\n",
      "of\n",
      "the\n",
      "abstract\n",
      "and\n",
      "conceptual\n",
      ".\n",
      "\n",
      "\n"
     ]
    }
   ],
   "source": [
    "for token in docx:\n",
    "    print(token.text)"
   ]
  },
  {
   "cell_type": "code",
   "execution_count": 9,
   "metadata": {},
   "outputs": [],
   "source": [
    "word_freq = {}\n",
    "for word in docx:\n",
    "    if word.text not in stopwords:\n",
    "        if word.text not in word_freq.keys():\n",
    "            word_freq[word.text] = 1\n",
    "        else:\n",
    "            word_freq[word.text] += 1\n",
    "                "
   ]
  },
  {
   "cell_type": "code",
   "execution_count": 10,
   "metadata": {
    "scrolled": true
   },
   "outputs": [
    {
     "data": {
      "text/plain": [
       "{'\\n': 2,\n",
       " 'A': 1,\n",
       " 'narrative': 2,\n",
       " 'story': 2,\n",
       " ',': 46,\n",
       " 'account': 1,\n",
       " 'series': 1,\n",
       " 'related': 1,\n",
       " 'events': 2,\n",
       " 'experiences': 1,\n",
       " 'like': 1,\n",
       " 'true': 1,\n",
       " '(': 4,\n",
       " 'episode': 1,\n",
       " 'vignette': 1,\n",
       " 'travelogue': 1,\n",
       " 'memoir': 1,\n",
       " 'autobiography': 1,\n",
       " 'biography': 1,\n",
       " ')': 3,\n",
       " 'fictitious': 1,\n",
       " 'fairy': 1,\n",
       " 'tale': 1,\n",
       " 'fable': 1,\n",
       " 'epic': 1,\n",
       " 'legend': 1,\n",
       " 'novel': 1,\n",
       " '.': 5,\n",
       " 'The': 1,\n",
       " 'word': 1,\n",
       " 'derives': 1,\n",
       " 'Latin': 1,\n",
       " 'verb': 1,\n",
       " 'narrare': 1,\n",
       " 'tell': 1,\n",
       " 'derived': 1,\n",
       " 'adjective': 1,\n",
       " 'gnarus': 1,\n",
       " 'knowing': 1,\n",
       " 'skilled).Along': 1,\n",
       " 'argumentation': 1,\n",
       " 'description': 1,\n",
       " 'exposition': 1,\n",
       " 'narration': 1,\n",
       " 'broadly': 1,\n",
       " 'defined': 2,\n",
       " 'rhetorical': 1,\n",
       " 'modes': 1,\n",
       " 'discourse': 1,\n",
       " 'More': 1,\n",
       " 'narrowly': 1,\n",
       " 'fiction': 1,\n",
       " '-': 2,\n",
       " 'writing': 1,\n",
       " 'mode': 1,\n",
       " 'narrator': 1,\n",
       " 'communicates': 1,\n",
       " 'directly': 1,\n",
       " 'reader': 1,\n",
       " '\\n\\n': 2,\n",
       " 'Oral': 1,\n",
       " 'storytelling': 1,\n",
       " 'earliest': 1,\n",
       " 'method': 1,\n",
       " 'sharing': 1,\n",
       " 'narratives.[7': 1,\n",
       " ']': 2,\n",
       " 'During': 1,\n",
       " 'people': 1,\n",
       " 'childhoods': 1,\n",
       " 'narratives': 1,\n",
       " 'guide': 1,\n",
       " 'proper': 1,\n",
       " 'behavior': 1,\n",
       " 'cultural': 1,\n",
       " 'history': 1,\n",
       " 'formation': 1,\n",
       " 'communal': 1,\n",
       " 'identity': 1,\n",
       " 'values': 1,\n",
       " 'especially': 1,\n",
       " 'studied': 1,\n",
       " 'anthropology': 1,\n",
       " 'today': 1,\n",
       " 'traditional': 1,\n",
       " 'indigenous': 1,\n",
       " 'peoples.[8': 1,\n",
       " 'Narrative': 1,\n",
       " 'found': 1,\n",
       " 'forms': 1,\n",
       " 'human': 1,\n",
       " 'creativity': 1,\n",
       " 'art': 3,\n",
       " 'entertainment': 1,\n",
       " 'including': 1,\n",
       " 'speech': 1,\n",
       " 'literature': 1,\n",
       " 'theatre': 1,\n",
       " 'music': 1,\n",
       " 'song': 1,\n",
       " 'comics': 1,\n",
       " 'journalism': 1,\n",
       " 'film': 1,\n",
       " 'television': 1,\n",
       " 'video': 2,\n",
       " 'games': 1,\n",
       " 'radio': 1,\n",
       " 'game': 1,\n",
       " 'play': 1,\n",
       " 'unstructured': 1,\n",
       " 'recreation': 1,\n",
       " 'performance': 1,\n",
       " 'general': 1,\n",
       " 'painting': 1,\n",
       " 'sculpture': 1,\n",
       " 'drawing': 1,\n",
       " 'photography': 1,\n",
       " 'visual': 1,\n",
       " 'arts': 1,\n",
       " 'long': 1,\n",
       " 'sequence': 1,\n",
       " 'presented': 1,\n",
       " 'Several': 1,\n",
       " 'movements': 1,\n",
       " 'modern': 1,\n",
       " 'refuse': 1,\n",
       " 'favor': 1,\n",
       " 'abstract': 1,\n",
       " 'conceptual': 1}"
      ]
     },
     "execution_count": 10,
     "metadata": {},
     "output_type": "execute_result"
    }
   ],
   "source": [
    "word_freq"
   ]
  },
  {
   "cell_type": "code",
   "execution_count": 11,
   "metadata": {},
   "outputs": [
    {
     "data": {
      "text/plain": [
       "46"
      ]
     },
     "execution_count": 11,
     "metadata": {},
     "output_type": "execute_result"
    }
   ],
   "source": [
    "max_freq = max(word_freq.values())\n",
    "max_freq"
   ]
  },
  {
   "cell_type": "code",
   "execution_count": 12,
   "metadata": {
    "scrolled": true
   },
   "outputs": [
    {
     "data": {
      "text/plain": [
       "{'\\n': 0.043478260869565216,\n",
       " 'A': 0.021739130434782608,\n",
       " 'narrative': 0.043478260869565216,\n",
       " 'story': 0.043478260869565216,\n",
       " ',': 1.0,\n",
       " 'account': 0.021739130434782608,\n",
       " 'series': 0.021739130434782608,\n",
       " 'related': 0.021739130434782608,\n",
       " 'events': 0.043478260869565216,\n",
       " 'experiences': 0.021739130434782608,\n",
       " 'like': 0.021739130434782608,\n",
       " 'true': 0.021739130434782608,\n",
       " '(': 0.08695652173913043,\n",
       " 'episode': 0.021739130434782608,\n",
       " 'vignette': 0.021739130434782608,\n",
       " 'travelogue': 0.021739130434782608,\n",
       " 'memoir': 0.021739130434782608,\n",
       " 'autobiography': 0.021739130434782608,\n",
       " 'biography': 0.021739130434782608,\n",
       " ')': 0.06521739130434782,\n",
       " 'fictitious': 0.021739130434782608,\n",
       " 'fairy': 0.021739130434782608,\n",
       " 'tale': 0.021739130434782608,\n",
       " 'fable': 0.021739130434782608,\n",
       " 'epic': 0.021739130434782608,\n",
       " 'legend': 0.021739130434782608,\n",
       " 'novel': 0.021739130434782608,\n",
       " '.': 0.10869565217391304,\n",
       " 'The': 0.021739130434782608,\n",
       " 'word': 0.021739130434782608,\n",
       " 'derives': 0.021739130434782608,\n",
       " 'Latin': 0.021739130434782608,\n",
       " 'verb': 0.021739130434782608,\n",
       " 'narrare': 0.021739130434782608,\n",
       " 'tell': 0.021739130434782608,\n",
       " 'derived': 0.021739130434782608,\n",
       " 'adjective': 0.021739130434782608,\n",
       " 'gnarus': 0.021739130434782608,\n",
       " 'knowing': 0.021739130434782608,\n",
       " 'skilled).Along': 0.021739130434782608,\n",
       " 'argumentation': 0.021739130434782608,\n",
       " 'description': 0.021739130434782608,\n",
       " 'exposition': 0.021739130434782608,\n",
       " 'narration': 0.021739130434782608,\n",
       " 'broadly': 0.021739130434782608,\n",
       " 'defined': 0.043478260869565216,\n",
       " 'rhetorical': 0.021739130434782608,\n",
       " 'modes': 0.021739130434782608,\n",
       " 'discourse': 0.021739130434782608,\n",
       " 'More': 0.021739130434782608,\n",
       " 'narrowly': 0.021739130434782608,\n",
       " 'fiction': 0.021739130434782608,\n",
       " '-': 0.043478260869565216,\n",
       " 'writing': 0.021739130434782608,\n",
       " 'mode': 0.021739130434782608,\n",
       " 'narrator': 0.021739130434782608,\n",
       " 'communicates': 0.021739130434782608,\n",
       " 'directly': 0.021739130434782608,\n",
       " 'reader': 0.021739130434782608,\n",
       " '\\n\\n': 0.043478260869565216,\n",
       " 'Oral': 0.021739130434782608,\n",
       " 'storytelling': 0.021739130434782608,\n",
       " 'earliest': 0.021739130434782608,\n",
       " 'method': 0.021739130434782608,\n",
       " 'sharing': 0.021739130434782608,\n",
       " 'narratives.[7': 0.021739130434782608,\n",
       " ']': 0.043478260869565216,\n",
       " 'During': 0.021739130434782608,\n",
       " 'people': 0.021739130434782608,\n",
       " 'childhoods': 0.021739130434782608,\n",
       " 'narratives': 0.021739130434782608,\n",
       " 'guide': 0.021739130434782608,\n",
       " 'proper': 0.021739130434782608,\n",
       " 'behavior': 0.021739130434782608,\n",
       " 'cultural': 0.021739130434782608,\n",
       " 'history': 0.021739130434782608,\n",
       " 'formation': 0.021739130434782608,\n",
       " 'communal': 0.021739130434782608,\n",
       " 'identity': 0.021739130434782608,\n",
       " 'values': 0.021739130434782608,\n",
       " 'especially': 0.021739130434782608,\n",
       " 'studied': 0.021739130434782608,\n",
       " 'anthropology': 0.021739130434782608,\n",
       " 'today': 0.021739130434782608,\n",
       " 'traditional': 0.021739130434782608,\n",
       " 'indigenous': 0.021739130434782608,\n",
       " 'peoples.[8': 0.021739130434782608,\n",
       " 'Narrative': 0.021739130434782608,\n",
       " 'found': 0.021739130434782608,\n",
       " 'forms': 0.021739130434782608,\n",
       " 'human': 0.021739130434782608,\n",
       " 'creativity': 0.021739130434782608,\n",
       " 'art': 0.06521739130434782,\n",
       " 'entertainment': 0.021739130434782608,\n",
       " 'including': 0.021739130434782608,\n",
       " 'speech': 0.021739130434782608,\n",
       " 'literature': 0.021739130434782608,\n",
       " 'theatre': 0.021739130434782608,\n",
       " 'music': 0.021739130434782608,\n",
       " 'song': 0.021739130434782608,\n",
       " 'comics': 0.021739130434782608,\n",
       " 'journalism': 0.021739130434782608,\n",
       " 'film': 0.021739130434782608,\n",
       " 'television': 0.021739130434782608,\n",
       " 'video': 0.043478260869565216,\n",
       " 'games': 0.021739130434782608,\n",
       " 'radio': 0.021739130434782608,\n",
       " 'game': 0.021739130434782608,\n",
       " 'play': 0.021739130434782608,\n",
       " 'unstructured': 0.021739130434782608,\n",
       " 'recreation': 0.021739130434782608,\n",
       " 'performance': 0.021739130434782608,\n",
       " 'general': 0.021739130434782608,\n",
       " 'painting': 0.021739130434782608,\n",
       " 'sculpture': 0.021739130434782608,\n",
       " 'drawing': 0.021739130434782608,\n",
       " 'photography': 0.021739130434782608,\n",
       " 'visual': 0.021739130434782608,\n",
       " 'arts': 0.021739130434782608,\n",
       " 'long': 0.021739130434782608,\n",
       " 'sequence': 0.021739130434782608,\n",
       " 'presented': 0.021739130434782608,\n",
       " 'Several': 0.021739130434782608,\n",
       " 'movements': 0.021739130434782608,\n",
       " 'modern': 0.021739130434782608,\n",
       " 'refuse': 0.021739130434782608,\n",
       " 'favor': 0.021739130434782608,\n",
       " 'abstract': 0.021739130434782608,\n",
       " 'conceptual': 0.021739130434782608}"
      ]
     },
     "execution_count": 12,
     "metadata": {},
     "output_type": "execute_result"
    }
   ],
   "source": [
    "for word in word_freq.keys():\n",
    "    word_freq[word] = (word_freq[word])/max_freq\n",
    "    \n",
    "word_freq"
   ]
  },
  {
   "cell_type": "code",
   "execution_count": 13,
   "metadata": {},
   "outputs": [],
   "source": [
    "sent_list = [ sentence for sentence in docx.sents]"
   ]
  },
  {
   "cell_type": "code",
   "execution_count": 14,
   "metadata": {},
   "outputs": [],
   "source": [
    "sent_scores = {}\n",
    "for sent in sent_list:\n",
    "    for word in sent:\n",
    "        if word.text.lower() in word_freq.keys():\n",
    "            if len(sent.text.split(' ')) < 30:\n",
    "                if sent not in sent_scores.keys():\n",
    "                    sent_scores[sent] = word_freq[word.text.lower()]\n",
    "                else:\n",
    "                    sent_scores[sent] += word_freq[word.text.lower()]"
   ]
  },
  {
   "cell_type": "code",
   "execution_count": 15,
   "metadata": {},
   "outputs": [
    {
     "data": {
      "text/plain": [
       "{More narrowly defined, it is the fiction-writing mode in which the narrator communicates directly to the reader.\n",
       " : 1.4130434782608703,\n",
       " Oral storytelling is the earliest method for sharing narratives.[7]: 0.15217391304347827,\n",
       " Several art movements, such as modern art, refuse the narrative in favor of the abstract and conceptual.: 2.4565217391304355}"
      ]
     },
     "execution_count": 15,
     "metadata": {},
     "output_type": "execute_result"
    }
   ],
   "source": [
    "sent_scores"
   ]
  },
  {
   "cell_type": "code",
   "execution_count": 16,
   "metadata": {},
   "outputs": [],
   "source": [
    "from heapq import nlargest"
   ]
  },
  {
   "cell_type": "code",
   "execution_count": 17,
   "metadata": {},
   "outputs": [
    {
     "data": {
      "text/plain": [
       "[Several art movements, such as modern art, refuse the narrative in favor of the abstract and conceptual.,\n",
       " More narrowly defined, it is the fiction-writing mode in which the narrator communicates directly to the reader.\n",
       " ,\n",
       " Oral storytelling is the earliest method for sharing narratives.[7]]"
      ]
     },
     "execution_count": 17,
     "metadata": {},
     "output_type": "execute_result"
    }
   ],
   "source": [
    "summarized_sents = nlargest(7,sent_scores,key = sent_scores.get )\n",
    "summarized_sents"
   ]
  },
  {
   "cell_type": "code",
   "execution_count": 18,
   "metadata": {},
   "outputs": [],
   "source": [
    "final_sents = [w.text for w in summarized_sents]"
   ]
  },
  {
   "cell_type": "code",
   "execution_count": 19,
   "metadata": {},
   "outputs": [
    {
     "data": {
      "text/plain": [
       "'Several art movements, such as modern art, refuse the narrative in favor of the abstract and conceptual.\\nMore narrowly defined, it is the fiction-writing mode in which the narrator communicates directly to the reader.\\n\\nOral storytelling is the earliest method for sharing narratives.[7]'"
      ]
     },
     "execution_count": 19,
     "metadata": {},
     "output_type": "execute_result"
    }
   ],
   "source": [
    "summary = ''.join(final_sents)\n",
    "summary"
   ]
  },
  {
   "cell_type": "code",
   "execution_count": 20,
   "metadata": {},
   "outputs": [
    {
     "data": {
      "text/plain": [
       "1398"
      ]
     },
     "execution_count": 20,
     "metadata": {},
     "output_type": "execute_result"
    }
   ],
   "source": [
    "len(document2)"
   ]
  },
  {
   "cell_type": "code",
   "execution_count": 21,
   "metadata": {},
   "outputs": [
    {
     "data": {
      "text/plain": [
       "286"
      ]
     },
     "execution_count": 21,
     "metadata": {},
     "output_type": "execute_result"
    }
   ],
   "source": [
    "len(summary)"
   ]
  },
  {
   "cell_type": "code",
   "execution_count": null,
   "metadata": {},
   "outputs": [],
   "source": []
  }
 ],
 "metadata": {
  "kernelspec": {
   "display_name": "Python 3",
   "language": "python",
   "name": "python3"
  },
  "language_info": {
   "codemirror_mode": {
    "name": "ipython",
    "version": 3
   },
   "file_extension": ".py",
   "mimetype": "text/x-python",
   "name": "python",
   "nbconvert_exporter": "python",
   "pygments_lexer": "ipython3",
   "version": "3.7.3"
  }
 },
 "nbformat": 4,
 "nbformat_minor": 2
}
